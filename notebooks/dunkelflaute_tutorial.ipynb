{
 "cells": [
  {
   "cell_type": "markdown",
   "metadata": {},
   "source": [
    "# Dunkelflaute Tutorial\n",
    "\n",
    "This notebook provides a step-by-step guide on how to use the Dunkelflaute module to analyze periods of low renewable energy production."
   ]
  },
  {
   "cell_type": "markdown",
   "metadata": {},
   "source": [
    "## Step 1: Import Required Modules"
   ]
  },
  {
   "cell_type": "code",
   "execution_count": null,
   "metadata": {},
   "outputs": [],
   "source": [
    "from dunkelflaute.core import get_total_production_df, find_fuzzy_periods, get_dunkelflaute_results\n",
    "from dunkelflaute.utils import create_ts_from_raw\n",
    "from dunkelflaute.visualize import plot_dunkelflaute_events, plot_dunkelflaute_contour\n",
    "import matplotlib.pyplot as plt\n",
    "import pandas as pd"
   ]
  },
  {
   "cell_type": "markdown",
   "metadata": {},
   "source": [
    "## Step 2: Load Data\n",
    "\n",
    "The Dunkelflaute package includes example data in the `data` folder. You can load this data directly to get started.\n",
    "\n",
    "Alternatively, you can use the `create_ts_from_raw` function to load your own time-series data from raw files (commented out below)."
   ]
  },
  {
   "cell_type": "code",
   "execution_count": null,
   "metadata": {},
   "outputs": [],
   "source": [
    "# Load example data from the data folder\n",
    "file_path = \"data/example_data.csv\"\n",
    "df = pd.read_csv(file_path, parse_dates=[\"datetime\"], index_col=\"datetime\")\n",
    "df.head()\n",
    "\n",
    "# Uncomment the following lines to load your own raw data\n",
    "# file_path = \"data/raw\"\n",
    "# df = create_ts_from_raw(file_path, range(2006, 2013))\n",
    "# df.head()"
   ]
  },
  {
   "cell_type": "markdown",
   "metadata": {},
   "source": [
    "## Step 3: Define Configuration Parameters\n",
    "\n",
    "Set the capacity mix, thresholds, and period lengths for the analysis."
   ]
  },
  {
   "cell_type": "code",
   "execution_count": null,
   "metadata": {},
   "outputs": [],
   "source": [
    "cap_mix_range = [0.25, 0.5, 0.75]  # Wind and solar capacity mix ratios, e.g., 0.25 = 25% wind, 75% solar\n",
    "thresholds = [0.05, 0.1, 0.15]  # Production thresholds\n",
    "period_lengths = [24 * t for t in range(1, 15)]  # Period lengths in hours"
   ]
  },
  {
   "cell_type": "markdown",
   "metadata": {},
   "source": [
    "## Step 4: Calculate Total Production\n",
    "\n",
    "Use the `get_total_production_df` function to calculate total renewable energy production based on the capacity mix."
   ]
  },
  {
   "cell_type": "code",
   "execution_count": null,
   "metadata": {},
   "outputs": [],
   "source": [
    "df_total = get_total_production_df(df, cap_mix_range)\n",
    "df_total.head()"
   ]
  },
  {
   "cell_type": "markdown",
   "metadata": {},
   "source": [
    "## Step 5: Analyze Dunkelflaute Periods\n",
    "\n",
    "Use the `get_dunkelflaute_results` function to identify periods of low production."
   ]
  },
  {
   "cell_type": "code",
   "execution_count": null,
   "metadata": {},
   "outputs": [],
   "source": [
    "results = get_dunkelflaute_results(df_total, thresholds, period_lengths)\n",
    "results"
   ]
  },
  {
   "cell_type": "markdown",
   "metadata": {},
   "source": [
    "## Step 6: Visualize Dunkelflaute Events\n",
    "\n",
    "Use the `plot_dunkelflaute_events` function to visualize the identified periods."
   ]
  },
  {
   "cell_type": "code",
   "execution_count": null,
   "metadata": {},
   "outputs": [],
   "source": [
    "plot_dunkelflaute_events(results, df_total, cap_mix_range, thresholds, period_lengths)\n",
    "plt.show()"
   ]
  },
  {
   "cell_type": "markdown",
   "metadata": {},
   "source": [
    "## Step 7: Generate a Contour Plot\n",
    "\n",
    "Use the `plot_dunkelflaute_contour` function to generate a contour plot showing the frequency of dunkelflaute events across thresholds and persistence times."
   ]
  },
  {
   "cell_type": "code",
   "execution_count": null,
   "metadata": {},
   "outputs": [],
   "source": [
    "plot_dunkelflaute_contour(results, cap_mix=0.5, period_lengths=period_lengths, thresholds=thresholds, no_years=7)\n",
    "plt.show()"
   ]
  }
 ],
 "metadata": {
  "kernelspec": {
   "display_name": "Python 3",
   "language": "python",
   "name": "python3"
  },
  "language_info": {
   "codemirror_mode": {
    "name": "ipython",
    "version": 3
   },
   "file_extension": ".py",
   "mimetype": "text/x-python",
   "name": "python",
   "nbconvert_exporter": "python",
   "pygments_lexer": "ipython3",
   "version": "3.8.5"
  }
 },
 "nbformat": 4,
 "nbformat_minor": 4
}